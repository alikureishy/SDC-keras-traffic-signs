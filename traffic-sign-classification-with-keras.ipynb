{
 "cells": [
  {
   "cell_type": "markdown",
   "metadata": {},
   "source": [
    "# Traffic Sign Classification with Keras\n",
    "\n",
    "Keras exists to make coding deep neural networks simpler. To demonstrate just how easy it is, you’re going to use Keras to build a convolutional neural network in a few dozen lines of code.\n",
    "\n",
    "You’ll be connecting the concepts from the previous lessons to the methods that Keras provides."
   ]
  },
  {
   "cell_type": "markdown",
   "metadata": {},
   "source": [
    "## Dataset\n",
    "\n",
    "The network you'll build with Keras is similar to the example that you can find in Keras’s GitHub repository that builds out a [convolutional neural network for MNIST](https://github.com/fchollet/keras/blob/master/examples/mnist_cnn.py). \n",
    "\n",
    "However, instead of using the [MNIST](http://yann.lecun.com/exdb/mnist/) dataset, you're going to use the [German Traffic Sign Recognition Benchmark](http://benchmark.ini.rub.de/?section=gtsrb&subsection=news) dataset that you've used previously.\n",
    "\n",
    "You can download pickle files with sanitized traffic sign data here."
   ]
  },
  {
   "cell_type": "markdown",
   "metadata": {},
   "source": [
    "## Overview\n",
    "\n",
    "Here are the steps you'll take to build the network:\n",
    "\n",
    "1. First load the data.\n",
    "2. Build a feedforward neural network to classify traffic signs.\n",
    "3. Build a convolutional neural network to classify traffic signs.\n",
    "\n",
    "Keep an eye on the network’s accuracy over time. Once the accuracy reaches the 98% range, you can be confident that you’ve built and trained an effective model."
   ]
  },
  {
   "cell_type": "markdown",
   "metadata": {},
   "source": [
    "## Load the Data\n",
    "\n",
    "Start by importing the data from the pickle file."
   ]
  },
  {
   "cell_type": "code",
   "execution_count": 1,
   "metadata": {
    "collapsed": false
   },
   "outputs": [],
   "source": [
    "# TODO: Implement load the data here.\n",
    "import pickle\n",
    "training_file = 'data/train.p'\n",
    "testing_file = 'data/test.p'\n",
    "more_data_file = 'data/more_data.p'\n",
    "checkpoint_file = 'checkpoints/ipnb_checkpoint.chk'\n",
    "abort_file = 'abort'\n",
    "\n",
    "FEATURES = 'features'\n",
    "LABELS = 'labels'\n",
    "SIZES = 'sizes'\n",
    "COORDS = 'coords'\n",
    "with open(training_file, mode='rb') as f:\n",
    "    train = pickle.load(f)\n",
    "with open(testing_file, mode='rb') as f:\n",
    "    test = pickle.load(f)\n",
    "\n",
    "X_train, y_train, sizes_train, coords_train = train[FEATURES], train[LABELS], train[SIZES], train[COORDS]\n",
    "X_test, y_test, sizes_test, coords_test = test[FEATURES], test[LABELS], test[SIZES], test[COORDS]\n",
    "\n",
    "\n",
    "# STOP: Do not change the tests below. Your implementation should pass these tests. \n",
    "assert(X_train.shape[0] == y_train.shape[0]), \"The number of images is not equal to the number of labels.\"\n",
    "assert(X_train.shape[1:] == (32,32,3)), \"The dimensions of the images are not 32 x 32 x 3.\""
   ]
  },
  {
   "cell_type": "markdown",
   "metadata": {},
   "source": [
    "## Normalize the data\n",
    "\n",
    "Now that you've loaded the training data, normalize the input so that it has a mean of 0 and a range between -0.5 and 0.5."
   ]
  },
  {
   "cell_type": "code",
   "execution_count": 2,
   "metadata": {
    "collapsed": false
   },
   "outputs": [],
   "source": [
    "import numpy as np\n",
    "import cv2\n",
    "\n",
    "# TODO: Implement data normalization here.\n",
    "x_train_norm = np.zeros_like(X_train, dtype=np.float32)\n",
    "x_test_norm = np.zeros_like(X_test, dtype=np.float32)\n",
    "for i in range(0, len(X_train)):\n",
    "    cv2.normalize(X_train[i], x_train_norm[i], -0.5, 0.5, cv2.NORM_MINMAX, dtype=cv2.CV_32F)\n",
    "for i in range(0, len(X_test)):\n",
    "    cv2.normalize(X_test[i], x_test_norm[i], -0.5, 0.5, cv2.NORM_MINMAX, dtype=cv2.CV_32F)\n",
    "X_train = x_train_norm\n",
    "X_test = x_test_norm\n",
    "\n",
    "# STOP: Do not change the tests below. Your implementation should pass these tests. \n",
    "assert(round(np.mean(X_train)) == 0), \"The mean of the input data is: %f\" % np.mean(X_train)\n",
    "#assert(np.min(X_train) == -0.5 and np.max(X_train) == 0.5), \"The range of the input data is: %.1f to %.1f\" % (np.min(X_train), np.max(X_train))"
   ]
  },
  {
   "cell_type": "markdown",
   "metadata": {},
   "source": [
    "## Build a Two-Layer Feedfoward Network\n",
    "\n",
    "The code you've written so far is for data processing, not specific to Keras. Here you're going to build Keras-specific code.\n",
    "\n",
    "Build a two-layer feedforward neural network, with 128 neurons in the fully-connected hidden layer. \n",
    "\n",
    "To get started, review the Keras documentation about [models](https://keras.io/models/sequential/) and [layers](https://keras.io/layers/core/).\n",
    "\n",
    "The Keras example of a [Multi-Layer Perceptron](https://github.com/fchollet/keras/blob/master/examples/mnist_mlp.py) network is similar to what you need to do here. Use that as a guide, but keep in mind that there are a number of differences."
   ]
  },
  {
   "cell_type": "code",
   "execution_count": 13,
   "metadata": {
    "collapsed": false
   },
   "outputs": [
    {
     "name": "stdout",
     "output_type": "stream",
     "text": [
      "X_train shape: (39209, 32, 32, 3)\n",
      "39209 train samples\n",
      "12630 test samples\n"
     ]
    }
   ],
   "source": [
    "from keras.datasets import mnist\n",
    "from keras.models import Sequential\n",
    "from keras.layers import Dense, Dropout, Activation, Flatten\n",
    "from keras.layers import Convolution2D, MaxPooling2D\n",
    "from keras.utils import np_utils\n",
    "from keras import backend as K\n",
    "\n",
    "batch_size = 128\n",
    "nb_classes = max(y_train) + 1\n",
    "nb_epoch = 12\n",
    "\n",
    "# input image dimensions\n",
    "img_rows, img_cols = 32, 32\n",
    "\n",
    "print('X_train shape:', X_train.shape)\n",
    "print(X_train.shape[0], 'train samples')\n",
    "print(X_test.shape[0], 'test samples')\n",
    "\n",
    "# convert class vectors to binary class matrices\n",
    "Y_train = np_utils.to_categorical(y_train, nb_classes)\n",
    "Y_test = np_utils.to_categorical(y_test, nb_classes)\n",
    "\n",
    "# TODO: Build a two-layer feedforward neural network with Keras here.\n",
    "model = Sequential()\n",
    "model.add(Flatten(batch_input_shape=(None,32,32,3)))\n",
    "model.add(Dense(128, name='hidden1'))\n",
    "model.add(Activation('relu'))\n",
    "model.add(Dropout(0.5))\n",
    "model.add(Dense(nb_classes))\n",
    "model.add(Activation('softmax', name='output'))\n",
    "\n",
    "# STOP: Do not change the tests below. Your implementation should pass these tests.\n",
    "assert(model.get_layer(name=\"hidden1\").input_shape == (None, 32*32*3)), \"The input shape is: %s\" % model.get_layer(name=\"hidden1\").input_shape\n",
    "assert(model.get_layer(name=\"output\").output_shape == (None, 43)), \"The output shape is: %s\" % model.get_layer(name=\"output\").output_shape "
   ]
  },
  {
   "cell_type": "markdown",
   "metadata": {},
   "source": [
    "## Train the Network\n",
    "Compile and train the network for 2 epochs. [Use the `adam` optimizer, with `categorical_crossentropy` loss.](https://keras.io/models/sequential/)\n",
    "\n",
    "Hint 1: In order to use categorical cross entropy, you will need to [one-hot encode the labels](https://github.com/fchollet/keras/blob/master/keras/utils/np_utils.py).\n",
    "\n",
    "Hint 2: In order to pass the input images to the fully-connected hidden layer, you will need to [reshape the input](https://github.com/fchollet/keras/blob/master/examples/mnist_mlp.py).\n",
    "\n",
    "Hint 3: Keras's `.fit()` method returns a `History.history` object, which the tests below use. Save that to a variable named `history`."
   ]
  },
  {
   "cell_type": "code",
   "execution_count": 4,
   "metadata": {
    "collapsed": false
   },
   "outputs": [
    {
     "name": "stdout",
     "output_type": "stream",
     "text": [
      "Epoch 1/2\n",
      "39209/39209 [==============================] - 2s - loss: 1.6321 - acc: 0.5524     \n",
      "Epoch 2/2\n",
      "39209/39209 [==============================] - 2s - loss: 0.7307 - acc: 0.7856     \n"
     ]
    }
   ],
   "source": [
    "# TODO: Compile and train the model here.\n",
    "model.compile(loss='categorical_crossentropy',\n",
    "              optimizer='adam',\n",
    "              metrics=['accuracy'])\n",
    "\n",
    "history = model.fit(X_train, Y_train, batch_size=batch_size, nb_epoch=2, verbose=1)\n",
    "\n",
    "# STOP: Do not change the tests below. Your implementation should pass these tests.\n",
    "assert(history.history['acc'][0] > 0.5), \"The training accuracy was: %.3f\" % history.history['acc']"
   ]
  },
  {
   "cell_type": "markdown",
   "metadata": {},
   "source": [
    "## Validate the Network\n",
    "Split the training data into a training and validation set.\n",
    "\n",
    "Measure the [validation accuracy](https://keras.io/models/sequential/) of the network after two training epochs.\n",
    "\n",
    "Hint: [Use the `train_test_split()` method](http://scikit-learn.org/stable/modules/generated/sklearn.model_selection.train_test_split.html) from scikit-learn."
   ]
  },
  {
   "cell_type": "code",
   "execution_count": 16,
   "metadata": {
    "collapsed": false
   },
   "outputs": [
    {
     "name": "stdout",
     "output_type": "stream",
     "text": [
      "Train on 29406 samples, validate on 9803 samples\n",
      "Epoch 1/20\n",
      "29406/29406 [==============================] - 2s - loss: 0.3315 - acc: 0.8990 - val_loss: 0.2203 - val_acc: 0.9470\n",
      "Epoch 2/20\n",
      "29406/29406 [==============================] - 1s - loss: 0.3106 - acc: 0.9043 - val_loss: 0.2116 - val_acc: 0.9486\n",
      "Epoch 3/20\n",
      "29406/29406 [==============================] - 1s - loss: 0.2935 - acc: 0.9098 - val_loss: 0.1995 - val_acc: 0.9512\n",
      "Epoch 4/20\n",
      "29406/29406 [==============================] - 1s - loss: 0.2874 - acc: 0.9112 - val_loss: 0.2044 - val_acc: 0.9480\n",
      "Epoch 5/20\n",
      "29406/29406 [==============================] - 2s - loss: 0.2726 - acc: 0.9159 - val_loss: 0.1776 - val_acc: 0.9562\n",
      "Epoch 6/20\n",
      "29406/29406 [==============================] - 2s - loss: 0.2634 - acc: 0.9178 - val_loss: 0.1774 - val_acc: 0.9595\n",
      "Epoch 7/20\n",
      "29406/29406 [==============================] - 2s - loss: 0.2605 - acc: 0.9212 - val_loss: 0.1895 - val_acc: 0.9563\n",
      "Epoch 8/20\n",
      "29406/29406 [==============================] - 2s - loss: 0.2500 - acc: 0.9233 - val_loss: 0.1996 - val_acc: 0.9443\n",
      "Epoch 9/20\n",
      "29406/29406 [==============================] - 2s - loss: 0.2556 - acc: 0.9205 - val_loss: 0.1693 - val_acc: 0.9617\n",
      "Epoch 10/20\n",
      "29406/29406 [==============================] - 2s - loss: 0.2523 - acc: 0.9223 - val_loss: 0.1712 - val_acc: 0.9571\n",
      "Epoch 11/20\n",
      "29406/29406 [==============================] - 2s - loss: 0.2194 - acc: 0.9313 - val_loss: 0.1584 - val_acc: 0.9662\n",
      "Epoch 12/20\n",
      "29406/29406 [==============================] - 2s - loss: 0.2244 - acc: 0.9304 - val_loss: 0.1685 - val_acc: 0.9591\n",
      "Epoch 13/20\n",
      "29406/29406 [==============================] - 2s - loss: 0.2343 - acc: 0.9266 - val_loss: 0.1789 - val_acc: 0.9558\n",
      "Epoch 14/20\n",
      "29406/29406 [==============================] - 2s - loss: 0.2337 - acc: 0.9248 - val_loss: 0.1597 - val_acc: 0.9638\n",
      "Epoch 15/20\n",
      "29406/29406 [==============================] - 2s - loss: 0.2095 - acc: 0.9341 - val_loss: 0.1568 - val_acc: 0.9650\n",
      "Epoch 16/20\n",
      "29406/29406 [==============================] - 2s - loss: 0.2142 - acc: 0.9315 - val_loss: 0.1790 - val_acc: 0.9538\n",
      "Epoch 17/20\n",
      "29406/29406 [==============================] - 2s - loss: 0.2059 - acc: 0.9366 - val_loss: 0.1624 - val_acc: 0.9629\n",
      "Epoch 18/20\n",
      "29406/29406 [==============================] - 2s - loss: 0.2009 - acc: 0.9366 - val_loss: 0.1598 - val_acc: 0.9622\n",
      "Epoch 19/20\n",
      "29406/29406 [==============================] - 2s - loss: 0.1964 - acc: 0.9381 - val_loss: 0.1539 - val_acc: 0.9652\n",
      "Epoch 20/20\n",
      "29406/29406 [==============================] - 2s - loss: 0.1990 - acc: 0.9366 - val_loss: 0.1620 - val_acc: 0.9609\n"
     ]
    }
   ],
   "source": [
    "from sklearn.model_selection import train_test_split\n",
    "\n",
    "# TODO: Split some of the training data into a validation dataset.\n",
    "X_trainval, X_val, Y_trainval, Y_val = train_test_split(X_train, Y_train, test_size=0.25, random_state=0)\n",
    "\n",
    "# TODO: Compile and train the model to measure validation accuracy.\n",
    "model.compile(loss='categorical_crossentropy',\n",
    "              optimizer='adam',\n",
    "              metrics=['accuracy'])\n",
    "\n",
    "history = model.fit(X_trainval, Y_trainval, batch_size=batch_size, nb_epoch=20, verbose=1, validation_data=(X_val, Y_val))\n",
    "\n",
    "# STOP: Do not change the tests below. Your implementation should pass these tests.\n",
    "assert(round(X_trainval.shape[0] / float(X_val.shape[0])) == 3), \"The training set is %.3f times larger than the validation set.\" % X_train.shape[0] / float(X_val.shape[0])\n",
    "assert(history.history['val_acc'][0] > 0.6), \"The validation accuracy is: %.3f\" % history.history['val_acc'][0]"
   ]
  },
  {
   "cell_type": "markdown",
   "metadata": {},
   "source": [
    "**Validation Accuracy**: ~96-97%%"
   ]
  },
  {
   "cell_type": "markdown",
   "metadata": {},
   "source": [
    "## Congratulations\n",
    "You've built a feedforward neural network in Keras!\n",
    "\n",
    "Don't stop here! Next, you'll add a convolutional layer to drive.py."
   ]
  },
  {
   "cell_type": "markdown",
   "metadata": {},
   "source": [
    "## Convolutions\n",
    "Build a new network, similar to your existing network. Before the hidden layer, add a 3x3 [convolutional layer](https://keras.io/layers/convolutional/#convolution2d) with 32 filters and valid padding.\n",
    "\n",
    "Then compile and train the network.\n",
    "\n",
    "Hint 1: The Keras example of a [convolutional neural network](https://github.com/fchollet/keras/blob/master/examples/mnist_cnn.py) for MNIST would be a good example to review.\n",
    "\n",
    "Hint 2: Now that the first layer of the network is a convolutional layer, you no longer need to reshape the input images before passing them to the network. You might need to reload your training data to recover the original shape.\n",
    "\n",
    "Hint 3: Add a [`Flatten()` layer](https://keras.io/layers/core/#flatten) between the convolutional layer and the fully-connected hidden layer."
   ]
  },
  {
   "cell_type": "code",
   "execution_count": 6,
   "metadata": {
    "collapsed": false
   },
   "outputs": [
    {
     "name": "stdout",
     "output_type": "stream",
     "text": [
      "Train on 29406 samples, validate on 9803 samples\n",
      "Epoch 1/2\n",
      "29406/29406 [==============================] - 29s - loss: 1.8005 - acc: 0.5276 - val_loss: 0.6816 - val_acc: 0.8353\n",
      "Epoch 2/2\n",
      "29406/29406 [==============================] - 30s - loss: 0.6744 - acc: 0.8125 - val_loss: 0.3108 - val_acc: 0.9326\n"
     ]
    }
   ],
   "source": [
    "# TODO: Re-construct the network and add a convolutional layer before the first fully-connected layer.\n",
    "# TODO: Compile and train the model.\n",
    "\n",
    "# number of convolutional filters to use\n",
    "nb_filters = 32\n",
    "# convolution kernel size\n",
    "kernel_size = (3, 3)\n",
    "# size of pooling area for max pooling\n",
    "pool_size = (2, 2)\n",
    "\n",
    "model = Sequential()\n",
    "model.add(Convolution2D(nb_filters, kernel_size[0], kernel_size[1],\n",
    "                        border_mode='valid',\n",
    "                        input_shape=(img_rows, img_cols, 3)))\n",
    "model.add(Activation('relu'))\n",
    "#model.add(Convolution2D(nb_filters, kernel_size[0], kernel_size[1]))\n",
    "#model.add(Activation('relu'))\n",
    "#model.add(MaxPooling2D(pool_size=pool_size))\n",
    "#model.add(Dropout(0.25))\n",
    "\n",
    "model.add(Flatten()) # batch_input_shape=(None,32,32,3)\n",
    "model.add(Dense(128))\n",
    "model.add(Activation('relu'))\n",
    "model.add(Dropout(0.5))\n",
    "model.add(Dense(nb_classes))\n",
    "model.add(Activation('softmax', name='output'))\n",
    "\n",
    "model.compile(loss='categorical_crossentropy',\n",
    "              optimizer='adadelta',\n",
    "              metrics=['accuracy'])\n",
    "\n",
    "from sklearn.model_selection import train_test_split\n",
    "X_trainval, X_val, Y_trainval, Y_val = train_test_split(X_train, Y_train, test_size=0.25, random_state=0)\n",
    "model.fit(X_trainval, Y_trainval, batch_size=batch_size, nb_epoch=10, verbose=1, validation_data=(X_val, Y_val))\n",
    "\n",
    "# STOP: Do not change the tests below. Your implementation should pass these tests.\n",
    "assert(history.history['val_acc'][0] > 0.9), \"The validation accuracy is: %.3f\" % history.history['val_acc'][0]"
   ]
  },
  {
   "cell_type": "markdown",
   "metadata": {},
   "source": [
    "**Validation Accuracy**: 92.81%"
   ]
  },
  {
   "cell_type": "markdown",
   "metadata": {},
   "source": [
    "## Pooling\n",
    "Re-construct your network and add a 2x2 [pooling layer](https://keras.io/layers/pooling/#maxpooling2d) immediately following your convolutional layer.\n",
    "\n",
    "Then compile and train the network."
   ]
  },
  {
   "cell_type": "code",
   "execution_count": 6,
   "metadata": {
    "collapsed": false
   },
   "outputs": [
    {
     "name": "stdout",
     "output_type": "stream",
     "text": [
      "Train on 29406 samples, validate on 9803 samples\n",
      "Epoch 1/10\n",
      "29406/29406 [==============================] - 18s - loss: 2.0461 - acc: 0.4545 - val_loss: 0.7987 - val_acc: 0.8211\n",
      "Epoch 2/10\n",
      "29406/29406 [==============================] - 18s - loss: 0.7719 - acc: 0.7804 - val_loss: 0.3795 - val_acc: 0.9239\n",
      "Epoch 3/10\n",
      "29406/29406 [==============================] - 19s - loss: 0.4797 - acc: 0.8653 - val_loss: 0.2520 - val_acc: 0.9461\n",
      "Epoch 4/10\n",
      "29406/29406 [==============================] - 19s - loss: 0.3545 - acc: 0.9008 - val_loss: 0.1846 - val_acc: 0.9652\n",
      "Epoch 5/10\n",
      "29406/29406 [==============================] - 19s - loss: 0.2856 - acc: 0.9210 - val_loss: 0.1621 - val_acc: 0.9615\n",
      "Epoch 6/10\n",
      "29406/29406 [==============================] - 19s - loss: 0.2389 - acc: 0.9348 - val_loss: 0.1266 - val_acc: 0.9730\n",
      "Epoch 7/10\n",
      "29406/29406 [==============================] - 19s - loss: 0.2026 - acc: 0.9440 - val_loss: 0.1183 - val_acc: 0.9759\n",
      "Epoch 8/10\n",
      "29406/29406 [==============================] - 20s - loss: 0.1791 - acc: 0.9507 - val_loss: 0.1060 - val_acc: 0.9749\n",
      "Epoch 9/10\n",
      "29406/29406 [==============================] - 20s - loss: 0.1543 - acc: 0.9575 - val_loss: 0.0957 - val_acc: 0.9795\n",
      "Epoch 10/10\n",
      "29406/29406 [==============================] - 21s - loss: 0.1388 - acc: 0.9633 - val_loss: 0.0894 - val_acc: 0.9799\n"
     ]
    }
   ],
   "source": [
    "# TODO: Re-construct the network and add a pooling layer after the convolutional layer.\n",
    "# TODO: Compile and train the model.\n",
    "\n",
    "# number of convolutional filters to use\n",
    "nb_filters = 32\n",
    "# convolution kernel size\n",
    "kernel_size = (3, 3)\n",
    "# size of pooling area for max pooling\n",
    "pool_size = (2, 2)\n",
    "\n",
    "model = Sequential()\n",
    "model.add(Convolution2D(nb_filters, kernel_size[0], kernel_size[1],\n",
    "                        border_mode='valid',\n",
    "                        input_shape=(img_rows, img_cols, 3)))\n",
    "model.add(Activation('relu'))\n",
    "#model.add(Convolution2D(nb_filters, kernel_size[0], kernel_size[1]))\n",
    "#model.add(Activation('relu'))\n",
    "model.add(MaxPooling2D(pool_size=pool_size))\n",
    "#model.add(Dropout(0.25))\n",
    "\n",
    "model.add(Flatten()) # batch_input_shape=(None,32,32,3)\n",
    "model.add(Dense(128))\n",
    "model.add(Activation('relu'))\n",
    "model.add(Dropout(0.5))\n",
    "model.add(Dense(nb_classes))\n",
    "model.add(Activation('softmax', name='output'))\n",
    "\n",
    "model.compile(loss='categorical_crossentropy',\n",
    "              optimizer='adadelta',\n",
    "              metrics=['accuracy'])\n",
    "\n",
    "from sklearn.model_selection import train_test_split\n",
    "X_trainval, X_val, Y_trainval, Y_val = train_test_split(X_train, Y_train, test_size=0.25, random_state=0)\n",
    "model.fit(X_trainval, Y_trainval, batch_size=batch_size, nb_epoch=10, verbose=1, validation_data=(X_val, Y_val))\n",
    "\n",
    "# STOP: Do not change the tests below. Your implementation should pass these tests.\n",
    "assert(history.history['val_acc'][0] > 0.9), \"The validation accuracy is: %.3f\" % history.history['val_acc'][0]"
   ]
  },
  {
   "cell_type": "markdown",
   "metadata": {},
   "source": [
    "**Validation Accuracy**: ~97-98%"
   ]
  },
  {
   "cell_type": "markdown",
   "metadata": {},
   "source": [
    "## Dropout\n",
    "Re-construct your network and add [dropout](https://keras.io/layers/core/#dropout) after the pooling layer. Set the dropout rate to 50%."
   ]
  },
  {
   "cell_type": "code",
   "execution_count": 8,
   "metadata": {
    "collapsed": false
   },
   "outputs": [
    {
     "name": "stdout",
     "output_type": "stream",
     "text": [
      "Train on 29406 samples, validate on 9803 samples\n",
      "Epoch 1/2\n",
      "29406/29406 [==============================] - 23s - loss: 2.2693 - acc: 0.3997 - val_loss: 0.9780 - val_acc: 0.7757\n",
      "Epoch 2/2\n",
      "29406/29406 [==============================] - 23s - loss: 0.9951 - acc: 0.7131 - val_loss: 0.4946 - val_acc: 0.8814\n"
     ]
    }
   ],
   "source": [
    "# TODO: Re-construct the network and add dropout after the pooling layer.\n",
    "# TODO: Compile and train the model.\n",
    "\n",
    "# number of convolutional filters to use\n",
    "nb_filters = 32\n",
    "# convolution kernel size\n",
    "kernel_size = (3, 3)\n",
    "# size of pooling area for max pooling\n",
    "pool_size = (2, 2)\n",
    "\n",
    "model = Sequential()\n",
    "model.add(Convolution2D(nb_filters, kernel_size[0], kernel_size[1],\n",
    "                        border_mode='valid',\n",
    "                        input_shape=(img_rows, img_cols, 3)))\n",
    "model.add(Activation('relu'))\n",
    "#model.add(Convolution2D(nb_filters, kernel_size[0], kernel_size[1]))\n",
    "#model.add(Activation('relu'))\n",
    "model.add(MaxPooling2D(pool_size=pool_size))\n",
    "model.add(Dropout(0.25))\n",
    "\n",
    "model.add(Flatten()) # batch_input_shape=(None,32,32,3)\n",
    "model.add(Dense(128))\n",
    "model.add(Activation('relu'))\n",
    "model.add(Dropout(0.5))\n",
    "model.add(Dense(nb_classes))\n",
    "model.add(Activation('softmax', name='output'))\n",
    "\n",
    "model.compile(loss='categorical_crossentropy',\n",
    "              optimizer='adadelta',\n",
    "              metrics=['accuracy'])\n",
    "\n",
    "from sklearn.model_selection import train_test_split\n",
    "X_trainval, X_val, Y_trainval, Y_val = train_test_split(X_train, Y_train, test_size=0.25, random_state=0)\n",
    "model.fit(X_trainval, Y_trainval, batch_size=batch_size, nb_epoch=2, verbose=1, validation_data=(X_val, Y_val))\n",
    "\n",
    "# STOP: Do not change the tests below. Your implementation should pass these tests.\n",
    "assert(history.history['val_acc'][0] > 0.9), \"The validation accuracy is: %.3f\" % history.history['val_acc'][0]"
   ]
  },
  {
   "cell_type": "markdown",
   "metadata": {
    "collapsed": true
   },
   "source": [
    "**Validation Accuracy**: 91.3%"
   ]
  },
  {
   "cell_type": "markdown",
   "metadata": {},
   "source": [
    "## Optimization\n",
    "Congratulations! You've built a neural network with convolutions, pooling, dropout, and fully-connected layers, all in just a few lines of code.\n",
    "\n",
    "Have fun with the model and see how well you can do! Add more layers, or regularization, or different padding, or batches, or more training epochs.\n",
    "\n",
    "What is the best validation accuracy you can achieve?"
   ]
  },
  {
   "cell_type": "code",
   "execution_count": null,
   "metadata": {
    "collapsed": false
   },
   "outputs": [
    {
     "name": "stdout",
     "output_type": "stream",
     "text": [
      "Train on 29406 samples, validate on 9803 samples\n",
      "Epoch 1/10\n",
      " 3712/29406 [==>...........................] - ETA: 26s - loss: 3.6695 - acc: 0.0533"
     ]
    }
   ],
   "source": [
    "#######################################\n",
    "#      OPtimizing the Network         #\n",
    "#######################################\n",
    "\n",
    "input_shapes = [(32, 32, 3), None, None]\n",
    "nb_filters = [32, 64, 128]\n",
    "kernel_sizes = [(3, 3), (3, 3), (3, 3)]\n",
    "pool_sizes = [(2, 2), (3, 3), None]\n",
    "relus = [True, True, True]\n",
    "dropouts = [1, 0.5, None]\n",
    "\n",
    "model = Sequential()\n",
    "for i in range (len(nb_filters)):\n",
    "    if not input_shapes[i] == None:\n",
    "        model.add(Convolution2D(nb_filters[i], kernel_sizes[i][0], kernel_sizes[i][1], border_mode='valid', input_shape=(img_rows, img_cols, 3)))\n",
    "    else:\n",
    "        model.add(Convolution2D(nb_filters[i], kernel_sizes[i][0], kernel_sizes[i][1], border_mode='valid'))\n",
    "\n",
    "    if relus[i] == True:\n",
    "        model.add(Activation('relu'))\n",
    "\n",
    "    if not pool_sizes[i] == None:\n",
    "        model.add(MaxPooling2D(pool_size=pool_sizes[i]))\n",
    "        \n",
    "    if not dropouts[i] == None:\n",
    "        model.add(Dropout(dropouts[i]))\n",
    "\n",
    "model.add(Flatten()) # batch_input_shape=(None,32,32,3)\n",
    "model.add(Dense(128))\n",
    "model.add(Activation('relu'))\n",
    "model.add(Dropout(0.5))\n",
    "model.add(Dense(nb_classes))\n",
    "model.add(Activation('softmax', name='output'))\n",
    "\n",
    "model.compile(loss='categorical_crossentropy', optimizer='adadelta', metrics=['accuracy'])\n",
    "\n",
    "from sklearn.model_selection import train_test_split\n",
    "X_trainval, X_val, Y_trainval, Y_val = train_test_split(X_train, Y_train, test_size=0.25, random_state=0)\n",
    "model.fit(X_trainval, Y_trainval, batch_size=batch_size, nb_epoch=10, verbose=1, validation_data=(X_val, Y_val))\n",
    "\n"
   ]
  },
  {
   "cell_type": "markdown",
   "metadata": {},
   "source": [
    "**Best Validation Accuracy:** (fill in here)"
   ]
  },
  {
   "cell_type": "markdown",
   "metadata": {},
   "source": [
    "## Testing\n",
    "Once you've picked out your best model, it's time to test it.\n",
    "\n",
    "Load up the test data and use the [`evaluate()` method](https://keras.io/models/model/#evaluate) to see how well it does.\n",
    "\n",
    "Hint 1: After you load your test data, don't forget to normalize the input and one-hot encode the output, so it matches the training data.\n",
    "\n",
    "Hint 2: The `evaluate()` method should return an array of numbers. Use the `metrics_names()` method to get the labels."
   ]
  },
  {
   "cell_type": "code",
   "execution_count": 19,
   "metadata": {
    "collapsed": false
   },
   "outputs": [
    {
     "name": "stdout",
     "output_type": "stream",
     "text": [
      "Evaluation score: 0.434374346359\n",
      "Evaluation accuracy: 0.879255740263\n"
     ]
    }
   ],
   "source": [
    "score = model.evaluate(X_test, Y_test, verbose=0)\n",
    "print('Evaluation score:', score[0])\n",
    "print('Evaluation accuracy:', score[1])\n",
    "\n",
    "#model.evaluate(X_test, Y_test)"
   ]
  },
  {
   "cell_type": "markdown",
   "metadata": {},
   "source": [
    "**Test Accuracy:** (fill in here)"
   ]
  },
  {
   "cell_type": "markdown",
   "metadata": {},
   "source": [
    "## Summary\n",
    "Keras is a great tool to use if you want to quickly build a neural network and evaluate performance."
   ]
  }
 ],
 "metadata": {
  "anaconda-cloud": {},
  "kernelspec": {
   "display_name": "Python 3",
   "language": "python",
   "name": "python3"
  },
  "language_info": {
   "codemirror_mode": {
    "name": "ipython",
    "version": 3
   },
   "file_extension": ".py",
   "mimetype": "text/x-python",
   "name": "python",
   "nbconvert_exporter": "python",
   "pygments_lexer": "ipython3",
   "version": "3.5.2"
  },
  "widgets": {
   "state": {},
   "version": "1.1.2"
  }
 },
 "nbformat": 4,
 "nbformat_minor": 0
}
